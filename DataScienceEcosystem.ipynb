{
 "cells": [
  {
   "cell_type": "markdown",
   "id": "56e4fbd6-f459-4f71-a82b-73da4a8f8bfe",
   "metadata": {},
   "source": [
    "<h1>Data Science Tools and Ecosystem<h>"
   ]
  },
  {
   "cell_type": "markdown",
   "id": "551d5b32-0ea3-48da-9ddc-4e8efcc9132a",
   "metadata": {},
   "source": [
    "In this notebook, Data Science Tools and Ecosystem are summarized."
   ]
  },
  {
   "cell_type": "markdown",
   "id": "7f8f7042-ed95-42fc-90e9-3c18ee835ea3",
   "metadata": {},
   "source": [
    "Some of the popular languages that Data Scientists use are: \n",
    "1. R\n",
    "2. Python \n",
    "3. Julia"
   ]
  },
  {
   "cell_type": "markdown",
   "id": "2ed2a71e-ef77-4378-85ba-2fd94ed48450",
   "metadata": {},
   "source": [
    "Some of the commonly used libraries used by Data Scientists include: caret, sklearn, pytorch"
   ]
  },
  {
   "cell_type": "markdown",
   "id": "b1581141-0eda-4491-9a45-5a335b173baf",
   "metadata": {},
   "source": [
    "<h2>Data Science Tools</h2>\n",
    "\n",
    "1. Jupyter Notebook\n",
    "2. Apache Spark\n",
    "3. RStudio"
   ]
  },
  {
   "cell_type": "markdown",
   "id": "0c2b9727-d05b-4379-869c-7260cca7940e",
   "metadata": {},
   "source": [
    "<h3>Below are a few examples of evaluating arithmetic expressions in Python</h3>\n",
    "+, -, *, /"
   ]
  },
  {
   "cell_type": "code",
   "execution_count": 2,
   "id": "2a773916-ee02-4ebe-be0c-bd834c5b6596",
   "metadata": {
    "tags": []
   },
   "outputs": [
    {
     "data": {
      "text/plain": [
       "17"
      ]
     },
     "execution_count": 2,
     "metadata": {},
     "output_type": "execute_result"
    }
   ],
   "source": [
    "#This a simple arithmetic expression to mutiply then add integers\n",
    "(3*4)+5"
   ]
  },
  {
   "cell_type": "code",
   "execution_count": 3,
   "id": "b8b87c4d-e1e6-4835-a088-4fc6c4fe542f",
   "metadata": {
    "tags": []
   },
   "outputs": [
    {
     "data": {
      "text/plain": [
       "3.3333333333333335"
      ]
     },
     "execution_count": 3,
     "metadata": {},
     "output_type": "execute_result"
    }
   ],
   "source": [
    "#This will convert 200 minutes to hours by diving by 60\n",
    "200/60"
   ]
  },
  {
   "cell_type": "markdown",
   "id": "dac006e1-4726-4090-a2ae-73ad67cded27",
   "metadata": {},
   "source": [
    "**Objectives**:\n",
    "- List popular languages for Data Science\n",
    "- List popular open source tools for Data Science\n",
    "- List popular libraries for Data Science"
   ]
  },
  {
   "cell_type": "markdown",
   "id": "af5e6fb1-47b8-4549-b1b7-e8998b370b9c",
   "metadata": {},
   "source": [
    "<h2>Author(s)</h2>\n",
    "\n",
    "Kentaro Watanabe"
   ]
  },
  {
   "cell_type": "code",
   "execution_count": null,
   "id": "459fe399-a97d-4b39-8783-610356c528d9",
   "metadata": {},
   "outputs": [],
   "source": []
  }
 ],
 "metadata": {
  "kernelspec": {
   "display_name": "Python",
   "language": "python",
   "name": "conda-env-python-py"
  },
  "language_info": {
   "codemirror_mode": {
    "name": "ipython",
    "version": 3
   },
   "file_extension": ".py",
   "mimetype": "text/x-python",
   "name": "python",
   "nbconvert_exporter": "python",
   "pygments_lexer": "ipython3",
   "version": "3.7.12"
  }
 },
 "nbformat": 4,
 "nbformat_minor": 5
}
